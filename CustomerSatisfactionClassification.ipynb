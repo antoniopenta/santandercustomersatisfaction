{
 "cells": [
  {
   "cell_type": "markdown",
   "metadata": {},
   "source": [
    "<h1><center>Customer Satisfaction Classification</center></h1>\n",
    "In this Notebook, I will explain \n",
    "* how I have addressed the un-balanced problems between the two classes,\n",
    "* what kind of strategy I have used to classify happy and unhappy customers."
   ]
  },
  {
   "cell_type": "code",
   "execution_count": 2,
   "metadata": {},
   "outputs": [],
   "source": [
    "import numpy as np\n",
    "from sklearn.ensemble import RandomForestClassifier\n",
    "from sklearn.model_selection import StratifiedShuffleSplit\n",
    "from sklearn.metrics import confusion_matrix\n",
    "from sklearn.metrics import f1_score\n",
    "from sklearn.metrics import precision_recall_fscore_support as score\n",
    "from sklearn.utils import shuffle\n",
    "from sklearn.model_selection import RandomizedSearchCV\n",
    "\n",
    "from boruta import boruta_py\n",
    "\n",
    "import pandas as pd\n",
    "import matplotlib.pyplot as plt\n",
    "import copy\n",
    "from time import time\n",
    "\n",
    "from utility import random_forest_classifer\n",
    "from utility import random_forest_classifer_params\n",
    "\n",
    "from imblearn.over_sampling import ADASYN"
   ]
  },
  {
   "cell_type": "code",
   "execution_count": 2,
   "metadata": {},
   "outputs": [],
   "source": [
    "data_train = pd.read_csv('data/train2.csv',index_col=0)"
   ]
  },
  {
   "cell_type": "code",
   "execution_count": 3,
   "metadata": {},
   "outputs": [
    {
     "name": "stdout",
     "output_type": "stream",
     "text": [
      "F1 accuracy: 0.544 (+/- 0.010)\n"
     ]
    }
   ],
   "source": [
    "matrix_features = data_train.as_matrix()[:,:-1]\n",
    "labels = data_train['TARGET'].as_matrix()\n",
    "f1_score_list,confusion_matrix_list = random_forest_classifer(matrix_features,labels)\n",
    "\n",
    "#The score method used in this case is the F1 score, which is the harmonic mean of precision and recall#The sc \n",
    "F1_accuracy_str=\"F1 accuracy: %0.3f (+/- %0.3f)\" % (np.mean(f1_score_list),\n",
    "                                                    np.std(f1_score_list) * 2)\n",
    "print(F1_accuracy_str)"
   ]
  },
  {
   "cell_type": "code",
   "execution_count": 4,
   "metadata": {},
   "outputs": [],
   "source": [
    "filtering_binary =data_train.apply(pd.Series.nunique) ==2\n",
    "data_train_binary_feature=data_train.loc[:,filtering_binary]\n",
    "\n",
    "filtering_nobinary =data_train.apply(pd.Series.nunique) >2\n",
    "filtering_nobinary ['TARGET']=True\n",
    "data_train_nobinary_feature=data_train.loc[:,filtering_nobinary]"
   ]
  },
  {
   "cell_type": "markdown",
   "metadata": {},
   "source": [
    "Let us compute a classification baseline to measure the improvements  "
   ]
  },
  {
   "cell_type": "code",
   "execution_count": 5,
   "metadata": {},
   "outputs": [
    {
     "name": "stdout",
     "output_type": "stream",
     "text": [
      "F1 accuracy: 0.544 (+/- 0.007)\n"
     ]
    }
   ],
   "source": [
    "matrix_features = data_train_nobinary_feature.as_matrix()[:,:-1]\n",
    "labels = data_train_nobinary_feature['TARGET'].as_matrix()\n",
    "f1_score_list,confusion_matrix_list = random_forest_classifer(matrix_features,labels)\n",
    "\n",
    "#The score method used in this case is the F1 score, which is the harmonic mean of precision and recall#The sc \n",
    "F1_accuracy_str=\"F1 accuracy: %0.3f (+/- %0.3f)\" % (np.mean(f1_score_list),\n",
    "                                                    np.std(f1_score_list) * 2)\n",
    "print(F1_accuracy_str)"
   ]
  },
  {
   "cell_type": "markdown",
   "metadata": {},
   "source": [
    "Let us load the normalized features computed in the NumericFeatureAnalysis.ipynb Notebook."
   ]
  },
  {
   "cell_type": "code",
   "execution_count": 16,
   "metadata": {},
   "outputs": [],
   "source": [
    "data_train_4_classification = pd.read_csv('data/dataframe_train_4_classification.csv',index_col=0) "
   ]
  },
  {
   "cell_type": "markdown",
   "metadata": {},
   "source": [
    "<h1><center> UnBalanced Classes </center></h1>\n",
    "* In order to address the problem of UnBalanced Classes, I decided to use an oversampling strategy instead of undersampling one that could exclude useful information.\n",
    "* In particular, I have adapted the Adaptive Synthetic Sampling Approach, implemented in the [scikit-learn contrib repository (scikit-learn compatible projects)](http://contrib.scikit-learn.org/imbalanced-learn/stable/auto_examples/over-sampling/plot_adasyn.html)  "
   ]
  },
  {
   "cell_type": "code",
   "execution_count": 17,
   "metadata": {},
   "outputs": [],
   "source": [
    "matrix_features = data_train_4_classification.as_matrix()[:,:-1]\n",
    "labels = data_train_4_classification['TARGET'].as_matrix()\n",
    "ada = ADASYN()\n",
    "matrix_features_resampled, labels_resampled = ada.fit_sample(matrix_features, labels)"
   ]
  },
  {
   "cell_type": "code",
   "execution_count": 18,
   "metadata": {},
   "outputs": [
    {
     "name": "stdout",
     "output_type": "stream",
     "text": [
      "(146323, 230)\n",
      "(146323,)\n"
     ]
    }
   ],
   "source": [
    "print(matrix_features_resampled.shape)\n",
    "print(labels_resampled.shape)"
   ]
  },
  {
   "cell_type": "code",
   "execution_count": 19,
   "metadata": {},
   "outputs": [
    {
     "name": "stdout",
     "output_type": "stream",
     "text": [
      "F1 accuracy: 0.834 (+/- 0.001)\n"
     ]
    }
   ],
   "source": [
    "matrix_features = matrix_features_resampled\n",
    "labels = labels_resampled\n",
    "f1_score_list,confusion_matrix_list = random_forest_classifer(matrix_features,labels)\n",
    "#The score method used in this case is the F1 score, which is the harmonic mean of precision and recall#The sc \n",
    "F1_accuracy_str=\"F1 accuracy: %0.3f (+/- %0.3f)\" % (np.mean(f1_score_list),\n",
    "                                                    np.std(f1_score_list) * 2)\n",
    "F1_accuracy = np.mean(f1_score_list)\n",
    "print(F1_accuracy_str)"
   ]
  },
  {
   "cell_type": "code",
   "execution_count": 20,
   "metadata": {},
   "outputs": [
    {
     "name": "stdout",
     "output_type": "stream",
     "text": [
      "Extract (randomly) one confusion matrix (Real vs Prediction) from the previous run: \n",
      "               Predicted happy   Predicted unhappy\n",
      "Real happy              0.8686              0.1314\n",
      " Real unhappy           0.2019              0.7981\n"
     ]
    }
   ],
   "source": [
    "print('Extract (randomly) one confusion matrix (Real vs Prediction) from the previous run: ')\n",
    "shuffle(confusion_matrix_list,random_state=15)\n",
    "cnf_matrix = confusion_matrix_list[0]\n",
    "dataframe=pd.DataFrame(cnf_matrix,index=['Real happy',' Real unhappy'],columns=['Predicted happy',' Predicted unhappy'])\n",
    "pd.set_option('display.float_format', lambda x: '%.4f' % x)\n",
    "print(dataframe)"
   ]
  },
  {
   "cell_type": "code",
   "execution_count": 12,
   "metadata": {},
   "outputs": [],
   "source": [
    "matrix_features_original = data_train.as_matrix()[:,:-1]\n",
    "labels_original = data_train['TARGET'].as_matrix()\n",
    "ada = ADASYN()\n",
    "matrix_features_resampled_original, labels_resampled_original = ada.fit_sample(matrix_features_original, labels_original)"
   ]
  },
  {
   "cell_type": "code",
   "execution_count": 13,
   "metadata": {},
   "outputs": [
    {
     "name": "stdout",
     "output_type": "stream",
     "text": [
      "F1 accuracy: 0.959 (+/- 0.000)\n"
     ]
    }
   ],
   "source": [
    "matrix_features = matrix_features_resampled_original\n",
    "labels = labels_resampled_original\n",
    "f1_score_list,confusion_matrix_list = random_forest_classifer(matrix_features,labels)\n",
    "#The score method used in this case is the F1 score, which is the harmonic mean of precision and recall#The sc \n",
    "F1_accuracy_str=\"F1 accuracy: %0.3f (+/- %0.3f)\" % (np.mean(f1_score_list),\n",
    "                                                    np.std(f1_score_list) * 2)\n",
    "F1_accuracy = np.mean(f1_score_list)\n",
    "print(F1_accuracy_str)"
   ]
  },
  {
   "cell_type": "code",
   "execution_count": 14,
   "metadata": {},
   "outputs": [
    {
     "name": "stdout",
     "output_type": "stream",
     "text": [
      "Extract (randomly) one confusion matrix (Real vs Prediction) from the previous run: \n",
      "               Predicted happy   Predicted unhappy\n",
      "Real happy              0.9638              0.0362\n",
      " Real unhappy           0.0458              0.9542\n"
     ]
    }
   ],
   "source": [
    "print('Extract (randomly) one confusion matrix (Real vs Prediction) from the previous run: ')\n",
    "shuffle(confusion_matrix_list,random_state=15)\n",
    "cnf_matrix = confusion_matrix_list[0]\n",
    "dataframe=pd.DataFrame(cnf_matrix,index=['Real happy',' Real unhappy'],columns=['Predicted happy',' Predicted unhappy'])\n",
    "pd.set_option('display.float_format', lambda x: '%.4f' % x)\n",
    "print(dataframe)"
   ]
  },
  {
   "cell_type": "markdown",
   "metadata": {},
   "source": [
    "* Frome the above resuls, the oversampling strategy is helping in improving the F1-accuracy both for the numeric features after the cleaning, and the original training data.\n",
    "\n",
    "* The result of 95% of F1-accuracy for the original training data are due to the overfitting, infact uploading the result with the same strategy on the test data on the Kaggle site, I get only 54& of AUC.\n",
    "\n",
    "* I would like to point out that oversampling is also prone to overfitting.\n"
   ]
  },
  {
   "cell_type": "markdown",
   "metadata": {},
   "source": [
    "<h1><center> Fine Tuning of the Random Forest </center></h1>"
   ]
  },
  {
   "cell_type": "markdown",
   "metadata": {},
   "source": [
    "* Let us fine-tuning the random forest looking for the best solution in the space of hyperparameters.\n",
    "* I will use the random search as the technique for parameters search.  "
   ]
  },
  {
   "cell_type": "code",
   "execution_count": 25,
   "metadata": {},
   "outputs": [
    {
     "name": "stdout",
     "output_type": "stream",
     "text": [
      "RandomizedSearchCV took 626.89 seconds for 50 candidates parameter settings.\n",
      "Model with rank: 1\n",
      "Mean validation score: 0.754 (std: 0.001)\n",
      "Parameters: {'n_estimators': 436, 'min_samples_split': 12, 'min_samples_leaf': 51, 'max_features': 12, 'max_depth': 20, 'criterion': 'entropy', 'bootstrap': False}\n",
      "\n",
      "Model with rank: 2\n",
      "Mean validation score: 0.753 (std: 0.002)\n",
      "Parameters: {'n_estimators': 274, 'min_samples_split': 37, 'min_samples_leaf': 54, 'max_features': 12, 'max_depth': None, 'criterion': 'entropy', 'bootstrap': False}\n",
      "\n",
      "Model with rank: 3\n",
      "Mean validation score: 0.752 (std: 0.001)\n",
      "Parameters: {'n_estimators': 100, 'min_samples_split': 83, 'min_samples_leaf': 54, 'max_features': 12, 'max_depth': None, 'criterion': 'gini', 'bootstrap': False}\n",
      "\n"
     ]
    }
   ],
   "source": [
    "\n",
    "# Utility function to report best scores\n",
    "def report(results, n_top=3):\n",
    "    for i in range(1, n_top + 1):\n",
    "        candidates = np.flatnonzero(results['rank_test_score'] == i)\n",
    "        for candidate in candidates:\n",
    "            print(\"Model with rank: {0}\".format(i))\n",
    "            print(\"Mean validation score: {0:.3f} (std: {1:.3f})\".format(\n",
    "                  results['mean_test_score'][candidate],\n",
    "                  results['std_test_score'][candidate]))\n",
    "            print(\"Parameters: {0}\".format(results['params'][candidate]))\n",
    "            print(\"\")\n",
    "\n",
    "\n",
    "# this is the parameter space\n",
    "max_features = int(np.sqrt(matrix_features_resampled.shape[1]))\n",
    "number_samples_features = int(max_features/2)\n",
    "\n",
    "# same seed to ensure replicability of the experiments \n",
    "np.random.seed(35)\n",
    "\n",
    "max_features_selection = np.random.choice(range(1,max_features),\n",
    "                                          number_samples_features,\n",
    "                                          replace=False)\n",
    "min_samples_split_selection = np.random.choice(range(2,100),10,\n",
    "                                               replace=False)\n",
    "min_samples_leaf_selection = np.random.choice(range(2,100),10,\n",
    "                                              replace=False)\n",
    "estimator_selection = np.random.choice(range(20,500),10,\n",
    "                                       replace=False)\n",
    "depth_selection = [3,5,10,20,None]\n",
    "\n",
    "\n",
    "\n",
    "param_dist = { \"n_estimators\":estimator_selection,\n",
    "               \"max_depth\": depth_selection,\n",
    "              \"max_features\": max_features_selection,\n",
    "              \"min_samples_split\": min_samples_split_selection,\n",
    "              \"min_samples_leaf\": min_samples_leaf_selection,\n",
    "              \"bootstrap\": [True, False],\n",
    "              \"criterion\": [\"gini\", \"entropy\"]}\n",
    "\n",
    "\n",
    "\n",
    "# build a classifier\n",
    "classifier_to_tune = RandomForestClassifier()\n",
    "\n",
    "# run randomized search\n",
    "n_iter_search = 50\n",
    "random_search = RandomizedSearchCV(classifier_to_tune, \n",
    "                                   param_distributions=param_dist,\n",
    "                                   n_iter=n_iter_search,random_state=32)\n",
    "\n",
    "rounds_train_validation_test = StratifiedShuffleSplit(n_splits=1, \n",
    "                                                      test_size=0.2,\n",
    "                                                      random_state=11)\n",
    "\n",
    "for train_validation_index, test_index in rounds_train_validation_test.split(matrix_features_resampled,\n",
    "                                                                             labels_resampled):\n",
    "        \n",
    "        matrix_train_validation = matrix_features_resampled[train_validation_index]\n",
    "        classes_train_validation = labels_resampled[train_validation_index]\n",
    "        matrix_test = matrix_features_resampled[test_index]\n",
    "        classes_test = labels_resampled[test_index]\n",
    "\n",
    "\n",
    "rounds_train_validation  = StratifiedShuffleSplit(n_splits=1, \n",
    "                                                  test_size=0.3,\n",
    "                                                  random_state=79)\n",
    "        \n",
    "for train_index, validation_index in rounds_train_validation.split(matrix_train_validation,\n",
    "                                                                   classes_train_validation):\n",
    "        \n",
    "        matrix_train= matrix_train_validation[train_index]\n",
    "        classes_train= classes_train_validation[train_index]\n",
    "        matrix_validation = matrix_train_validation[validation_index]\n",
    "        classes_validation = classes_train_validation[validation_index]\n",
    "\n",
    "start = time()\n",
    "random_search.fit(matrix_validation, classes_validation)\n",
    "print(\"RandomizedSearchCV took %.2f seconds for %d candidates\"\n",
    "      \" parameter settings.\" % ((time() - start), n_iter_search))\n",
    "report(random_search.cv_results_)"
   ]
  },
  {
   "cell_type": "code",
   "execution_count": 26,
   "metadata": {},
   "outputs": [
    {
     "name": "stdout",
     "output_type": "stream",
     "text": [
      "F1 accuracy: 0.768 (+/- 0.005)\n"
     ]
    }
   ],
   "source": [
    "matrix_features = matrix_features_resampled\n",
    "labels = labels_resampled\n",
    "f1_score_list,confusion_matrix_list = random_forest_classifer_params(matrix_features,labels,\n",
    "                                                                      number_rounds = 3,\n",
    "                                                                     test_size_value = 0.5,\n",
    "                                                                     n_estimators= 436,\n",
    "                                                                     min_samples_split= 12,\n",
    "                                                                     min_samples_leaf= 51,\n",
    "                                                                     max_features= 12,\n",
    "                                                                     max_depth=20, \n",
    "                                                                     criterion= 'entropy',\n",
    "                                                                     bootstrap=False)\n",
    "#The score method used in this case is the F1 score, which is the harmonic mean of precision and recall#The sc \n",
    "F1_accuracy_str=\"F1 accuracy: %0.3f (+/- %0.3f)\" % (np.mean(f1_score_list),\n",
    "                                                    np.std(f1_score_list) * 2)\n",
    "F1_accuracy = np.mean(f1_score_list)\n",
    "print(F1_accuracy_str)\n",
    "\n"
   ]
  },
  {
   "cell_type": "markdown",
   "metadata": {},
   "source": [
    "* The parameters selected by the fine tuning are not offering any improvement respect to the initial setting.\n",
    "* I should explore better the parameter space, but this requires times."
   ]
  },
  {
   "cell_type": "code",
   "execution_count": 27,
   "metadata": {},
   "outputs": [
    {
     "name": "stdout",
     "output_type": "stream",
     "text": [
      "F1 accuracy: 0.834 (+/- 0.001)\n"
     ]
    }
   ],
   "source": [
    "matrix_features = matrix_features_resampled\n",
    "labels = labels_resampled\n",
    "f1_score_list,confusion_matrix_list = random_forest_classifer_params(matrix_features,labels,\n",
    "                                                                      number_rounds = 3,\n",
    "                                                                     test_size_value = 0.5,\n",
    "                                                                     n_estimators= 100,\n",
    "                                                                     min_samples_split= 2,\n",
    "                                                                     min_samples_leaf= 1,\n",
    "                                                                     max_features= 'sqrt',\n",
    "                                                                     max_depth=None, \n",
    "                                                                     criterion= 'gini',\n",
    "                                                                     bootstrap=True)\n",
    "#The score method used in this case is the F1 score, which is the harmonic mean of precision and recall#The sc \n",
    "F1_accuracy_str=\"F1 accuracy: %0.3f (+/- %0.3f)\" % (np.mean(f1_score_list),\n",
    "                                                    np.std(f1_score_list) * 2)\n",
    "F1_accuracy = np.mean(f1_score_list)\n",
    "print(F1_accuracy_str)\n"
   ]
  },
  {
   "cell_type": "code",
   "execution_count": null,
   "metadata": {},
   "outputs": [],
   "source": []
  }
 ],
 "metadata": {
  "kernelspec": {
   "display_name": "Python 3",
   "language": "python",
   "name": "python3"
  },
  "language_info": {
   "codemirror_mode": {
    "name": "ipython",
    "version": 3
   },
   "file_extension": ".py",
   "mimetype": "text/x-python",
   "name": "python",
   "nbconvert_exporter": "python",
   "pygments_lexer": "ipython3",
   "version": "3.6.3"
  }
 },
 "nbformat": 4,
 "nbformat_minor": 2
}
