{
 "cells": [
  {
   "cell_type": "markdown",
   "metadata": {},
   "source": [
    "<h1><center>Customer Satisfaction Classification</center></h1>\n",
    "In this Notebook, I will explain \n",
    "* how I have addressed the un-balanced problems between the two classes,\n",
    "* what kind of strategy I have used to classify happy and unhappy customers."
   ]
  },
  {
   "cell_type": "code",
   "execution_count": 2,
   "metadata": {},
   "outputs": [],
   "source": [
    "import numpy as np\n",
    "from sklearn.ensemble import RandomForestClassifier\n",
    "from sklearn.model_selection import StratifiedShuffleSplit\n",
    "from sklearn.metrics import confusion_matrix\n",
    "from sklearn.metrics import f1_score\n",
    "from sklearn.metrics import precision_recall_fscore_support as score\n",
    "from sklearn.utils import shuffle\n",
    "from sklearn.model_selection import RandomizedSearchCV\n",
    "\n",
    "from boruta import boruta_py\n",
    "\n",
    "import pandas as pd\n",
    "import matplotlib.pyplot as plt\n",
    "import copy\n",
    "from time import time\n",
    "\n",
    "from utility import random_forest_classifer\n",
    "from utility import random_forest_classifer_params\n",
    "\n",
    "from imblearn.over_sampling import ADASYN"
   ]
  },
  {
   "cell_type": "code",
   "execution_count": 2,
   "metadata": {},
   "outputs": [],
   "source": [
    "data_train = pd.read_csv('data/train2.csv',index_col=0)"
   ]
  },
  {
   "cell_type": "code",
   "execution_count": 3,
   "metadata": {},
   "outputs": [
    {
     "name": "stdout",
     "output_type": "stream",
     "text": [
      "F1 accuracy: 0.544 (+/- 0.010)\n"
     ]
    }
   ],
   "source": [
    "matrix_features = data_train.as_matrix()[:,:-1]\n",
    "labels = data_train['TARGET'].as_matrix()\n",
    "f1_score_list,confusion_matrix_list = random_forest_classifer(matrix_features,labels)\n",
    "\n",
    "#The score method used in this case is the F1 score, which is the harmonic mean of precision and recall#The sc \n",
    "F1_accuracy_str=\"F1 accuracy: %0.3f (+/- %0.3f)\" % (np.mean(f1_score_list),\n",
    "                                                    np.std(f1_score_list) * 2)\n",
    "print(F1_accuracy_str)"
   ]
  },
  {
   "cell_type": "code",
   "execution_count": 4,
   "metadata": {},
   "outputs": [],
   "source": [
    "filtering_binary =data_train.apply(pd.Series.nunique) ==2\n",
    "data_train_binary_feature=data_train.loc[:,filtering_binary]\n",
    "\n",
    "filtering_nobinary =data_train.apply(pd.Series.nunique) >2\n",
    "filtering_nobinary ['TARGET']=True\n",
    "data_train_nobinary_feature=data_train.loc[:,filtering_nobinary]"
   ]
  },
  {
   "cell_type": "markdown",
   "metadata": {},
   "source": [
    "Let us compute a classification baseline to measure the improvements  "
   ]
  },
  {
   "cell_type": "code",
   "execution_count": 5,
   "metadata": {},
   "outputs": [
    {
     "name": "stdout",
     "output_type": "stream",
     "text": [
      "F1 accuracy: 0.544 (+/- 0.007)\n"
     ]
    }
   ],
   "source": [
    "matrix_features = data_train_nobinary_feature.as_matrix()[:,:-1]\n",
    "labels = data_train_nobinary_feature['TARGET'].as_matrix()\n",
    "f1_score_list,confusion_matrix_list = random_forest_classifer(matrix_features,labels)\n",
    "\n",
    "#The score method used in this case is the F1 score, which is the harmonic mean of precision and recall#The sc \n",
    "F1_accuracy_str=\"F1 accuracy: %0.3f (+/- %0.3f)\" % (np.mean(f1_score_list),\n",
    "                                                    np.std(f1_score_list) * 2)\n",
    "print(F1_accuracy_str)"
   ]
  },
  {
   "cell_type": "markdown",
   "metadata": {},
   "source": [
    "Let us load the normalized features computed in the NumericFeatureAnalysis.ipynb Notebook."
   ]
  },
  {
   "cell_type": "code",
   "execution_count": 6,
   "metadata": {},
   "outputs": [
    {
     "name": "stdout",
     "output_type": "stream",
     "text": [
      "(76020, 231)\n"
     ]
    }
   ],
   "source": [
    "matrix_nobinary_features_normalized = np.load('data/matrix_nobinary_features_normalized.npy')\n",
    "labels = data_train_nobinary_feature['TARGET'].as_matrix()\n",
    "matrix_nobinary_features_normalized_with_labels=np.hstack([matrix_nobinary_features_normalized,labels.reshape(-1,1)])\n",
    "data_train_nobinary_clean_normalized=pd.DataFrame(matrix_nobinary_features_normalized_with_labels,columns=data_train_nobinary_feature.columns.values)\n",
    "print(data_train_nobinary_clean_normalized.shape)"
   ]
  },
  {
   "cell_type": "markdown",
   "metadata": {},
   "source": [
    "<h1><center> UnBalanced Classes </center></h1>\n",
    "* In order to address the problem of UnBalanced Classes, I decided to use an oversampling strategy instead of undersampling one that could exclude useful information.\n",
    "* In particular, I have adapted the Adaptive Synthetic Sampling Approach, implemented in the [scikit-learn contrib repository (scikit-learn compatible projects)](http://contrib.scikit-learn.org/imbalanced-learn/stable/auto_examples/over-sampling/plot_adasyn.html)  "
   ]
  },
  {
   "cell_type": "code",
   "execution_count": 7,
   "metadata": {},
   "outputs": [],
   "source": [
    "matrix_features = data_train_nobinary_clean_normalized.as_matrix()[:,:-1]\n",
    "labels = data_train_nobinary_clean_normalized['TARGET'].as_matrix()\n",
    "ada = ADASYN()\n",
    "matrix_features_resampled, labels_resampled = ada.fit_sample(matrix_features, labels)"
   ]
  },
  {
   "cell_type": "code",
   "execution_count": 9,
   "metadata": {},
   "outputs": [
    {
     "name": "stdout",
     "output_type": "stream",
     "text": [
      "(145547, 230)\n",
      "(145547,)\n"
     ]
    }
   ],
   "source": [
    "print(matrix_features_resampled.shape)\n",
    "print(labels_resampled.shape)"
   ]
  },
  {
   "cell_type": "code",
   "execution_count": 10,
   "metadata": {},
   "outputs": [
    {
     "name": "stdout",
     "output_type": "stream",
     "text": [
      "F1 accuracy: 0.812 (+/- 0.001)\n"
     ]
    }
   ],
   "source": [
    "matrix_features = matrix_features_resampled\n",
    "labels = labels_resampled\n",
    "f1_score_list,confusion_matrix_list = random_forest_classifer(matrix_features,labels)\n",
    "#The score method used in this case is the F1 score, which is the harmonic mean of precision and recall#The sc \n",
    "F1_accuracy_str=\"F1 accuracy: %0.3f (+/- %0.3f)\" % (np.mean(f1_score_list),\n",
    "                                                    np.std(f1_score_list) * 2)\n",
    "F1_accuracy = np.mean(f1_score_list)\n",
    "print(F1_accuracy_str)"
   ]
  },
  {
   "cell_type": "code",
   "execution_count": 11,
   "metadata": {},
   "outputs": [
    {
     "name": "stdout",
     "output_type": "stream",
     "text": [
      "Extract (randomly) one confusion matrix (Real vs Prediction) from the previous run: \n",
      "               Predicted happy   Predicted unhappy\n",
      "Real happy              0.7962              0.2038\n",
      " Real unhappy           0.1721              0.8279\n"
     ]
    }
   ],
   "source": [
    "print('Extract (randomly) one confusion matrix (Real vs Prediction) from the previous run: ')\n",
    "shuffle(confusion_matrix_list,random_state=15)\n",
    "cnf_matrix = confusion_matrix_list[0]\n",
    "dataframe=pd.DataFrame(cnf_matrix,index=['Real happy',' Real unhappy'],columns=['Predicted happy',' Predicted unhappy'])\n",
    "pd.set_option('display.float_format', lambda x: '%.4f' % x)\n",
    "print(dataframe)"
   ]
  },
  {
   "cell_type": "code",
   "execution_count": 12,
   "metadata": {},
   "outputs": [],
   "source": [
    "matrix_features_original = data_train.as_matrix()[:,:-1]\n",
    "labels_original = data_train['TARGET'].as_matrix()\n",
    "ada = ADASYN()\n",
    "matrix_features_resampled_original, labels_resampled_original = ada.fit_sample(matrix_features_original, labels_original)"
   ]
  },
  {
   "cell_type": "code",
   "execution_count": 13,
   "metadata": {},
   "outputs": [
    {
     "name": "stdout",
     "output_type": "stream",
     "text": [
      "F1 accuracy: 0.959 (+/- 0.000)\n"
     ]
    }
   ],
   "source": [
    "matrix_features = matrix_features_resampled_original\n",
    "labels = labels_resampled_original\n",
    "f1_score_list,confusion_matrix_list = random_forest_classifer(matrix_features,labels)\n",
    "#The score method used in this case is the F1 score, which is the harmonic mean of precision and recall#The sc \n",
    "F1_accuracy_str=\"F1 accuracy: %0.3f (+/- %0.3f)\" % (np.mean(f1_score_list),\n",
    "                                                    np.std(f1_score_list) * 2)\n",
    "F1_accuracy = np.mean(f1_score_list)\n",
    "print(F1_accuracy_str)"
   ]
  },
  {
   "cell_type": "code",
   "execution_count": 14,
   "metadata": {},
   "outputs": [
    {
     "name": "stdout",
     "output_type": "stream",
     "text": [
      "Extract (randomly) one confusion matrix (Real vs Prediction) from the previous run: \n",
      "               Predicted happy   Predicted unhappy\n",
      "Real happy              0.9638              0.0362\n",
      " Real unhappy           0.0458              0.9542\n"
     ]
    }
   ],
   "source": [
    "print('Extract (randomly) one confusion matrix (Real vs Prediction) from the previous run: ')\n",
    "shuffle(confusion_matrix_list,random_state=15)\n",
    "cnf_matrix = confusion_matrix_list[0]\n",
    "dataframe=pd.DataFrame(cnf_matrix,index=['Real happy',' Real unhappy'],columns=['Predicted happy',' Predicted unhappy'])\n",
    "pd.set_option('display.float_format', lambda x: '%.4f' % x)\n",
    "print(dataframe)"
   ]
  },
  {
   "cell_type": "markdown",
   "metadata": {},
   "source": [
    "* Frome the above resuls, the oversampling strategy is helping in improving the F1-accuracy both for the numeric features after the cleaning, and the original data.\n",
    "\n",
    "* I would like to point out that oversampling is also prone to overfitting.\n"
   ]
  },
  {
   "cell_type": "code",
   "execution_count": null,
   "metadata": {},
   "outputs": [],
   "source": [
    "scaler = MinMaxScaler()"
   ]
  }
 ],
 "metadata": {
  "kernelspec": {
   "display_name": "Python 3",
   "language": "python",
   "name": "python3"
  },
  "language_info": {
   "codemirror_mode": {
    "name": "ipython",
    "version": 3
   },
   "file_extension": ".py",
   "mimetype": "text/x-python",
   "name": "python",
   "nbconvert_exporter": "python",
   "pygments_lexer": "ipython3",
   "version": "3.6.3"
  }
 },
 "nbformat": 4,
 "nbformat_minor": 2
}
