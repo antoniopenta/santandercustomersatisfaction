{
 "cells": [
  {
   "cell_type": "code",
   "execution_count": 1,
   "metadata": {},
   "outputs": [],
   "source": [
    "import pandas as pd"
   ]
  },
  {
   "cell_type": "code",
   "execution_count": 2,
   "metadata": {},
   "outputs": [],
   "source": [
    "data_train = pd.read_csv('data/train2.csv',index_col=0)\n",
    "data_test = pd.read_csv('data/test2.csv',index_col=0)"
   ]
  },
  {
   "cell_type": "code",
   "execution_count": 3,
   "metadata": {},
   "outputs": [
    {
     "name": "stdout",
     "output_type": "stream",
     "text": [
      "Size train (76020, 370)\n",
      "Size test (75818, 369)\n"
     ]
    }
   ],
   "source": [
    "print('Size train',data_train.shape)\n",
    "print('Size test',data_test.shape)"
   ]
  },
  {
   "cell_type": "code",
   "execution_count": 4,
   "metadata": {},
   "outputs": [
    {
     "name": "stdout",
     "output_type": "stream",
     "text": [
      "Class_Labels  [0 1]\n"
     ]
    }
   ],
   "source": [
    "print('Class_Labels ',data_train['TARGET'].unique())\n"
   ]
  },
  {
   "cell_type": "code",
   "execution_count": 6,
   "metadata": {},
   "outputs": [
    {
     "name": "stdout",
     "output_type": "stream",
     "text": [
      "Number of Ones: 3008\n",
      "Number of Zeros: 73012\n",
      "Is there NaN values?  False\n",
      "Number of duplicates : 4940\n"
     ]
    }
   ],
   "source": [
    "total_ones=data_train['TARGET'].sum()\n",
    "total_zeros =data_train.shape[0]-total_ones\n",
    "print('Number of Ones:',total_ones)\n",
    "print('Number of Zeros:',total_zeros)\n",
    "print('Is there NaN values? ',data_train.isnull().any().any())\n",
    "list_cols_no_label = [item for item in data_train.columns.values.tolist() if item!='TARGET']\n",
    "data_train_no_label = data_train.loc[:,list_cols_no_label]\n",
    "duplicates = data_train_no_label.duplicated().sum()\n",
    "print('Number of duplicates :',duplicates)"
   ]
  },
  {
   "cell_type": "code",
   "execution_count": 12,
   "metadata": {},
   "outputs": [
    {
     "name": "stdout",
     "output_type": "stream",
     "text": [
      "Size happy: (73012, 370)\n",
      "Size unhappy: (3008, 370)\n"
     ]
    }
   ],
   "source": [
    "data_train_happy=data_train.loc[data_train['TARGET']==0]\n",
    "print('Size happy:',data_train_happy.shape)\n",
    "data_train_unhappy=data_train.loc[data_train['TARGET']==1]\n",
    "print('Size unhappy:',data_train_unhappy.shape)"
   ]
  },
  {
   "cell_type": "code",
   "execution_count": 14,
   "metadata": {},
   "outputs": [
    {
     "name": "stdout",
     "output_type": "stream",
     "text": [
      "Number of duplicates for happy : 4614\n",
      "New size  happy dataframe with no dulicates : (68398, 369)\n"
     ]
    }
   ],
   "source": [
    "data_train_happy_no_label = data_train_happy.loc[:,list_cols_no_label]\n",
    "duplicates_happy = data_train_happy_no_label.duplicated().sum()\n",
    "print('Number of duplicates for happy :',duplicates_happy)\n",
    "data_train_happy_no_label_no_dup = data_train_happy_no_label.drop_duplicates()\n",
    "print('New size  happy dataframe with no dulicates :',data_train_happy_no_label_no_dup.shape)"
   ]
  },
  {
   "cell_type": "code",
   "execution_count": 15,
   "metadata": {},
   "outputs": [
    {
     "name": "stdout",
     "output_type": "stream",
     "text": [
      "Number of duplicates for unhappy : 193\n",
      "New size unhappy dataframe with no dulicates : (2815, 369)\n"
     ]
    }
   ],
   "source": [
    "data_train_unhappy_no_label = data_train_unhappy.loc[:,list_cols_no_label]\n",
    "duplicates_unhappy = data_train_unhappy_no_label.duplicated().sum()\n",
    "print('Number of duplicates for unhappy :',duplicates_unhappy)\n",
    "data_train_unhappy_no_label_no_dup = data_train_unhappy_no_label.drop_duplicates()\n",
    "print('New size unhappy dataframe with no dulicates :',data_train_unhappy_no_label_no_dup.shape)"
   ]
  },
  {
   "cell_type": "code",
   "execution_count": 18,
   "metadata": {},
   "outputs": [],
   "source": [
    "s_perc = 0.2\n",
    "data_train_happy_s = data_train_happy_no_label_no_dup.sample(int(s_perc*data_train_happy_no_label_no_dup.shape[0]),random_state=32)\n",
    "data_train_unhappy_s = data_train_unhappy_no_label_no_dup.sample(int(s_perc*data_train_unhappy_no_label_no_dup.shape[0]),random_state=21)"
   ]
  },
  {
   "cell_type": "code",
   "execution_count": 19,
   "metadata": {},
   "outputs": [
    {
     "name": "stdout",
     "output_type": "stream",
     "text": [
      "(13679, 369)\n",
      "(563, 369)\n"
     ]
    }
   ],
   "source": [
    "print(data_train_happy_s.shape)\n",
    "print(data_train_unhappy_s.shape)"
   ]
  },
  {
   "cell_type": "code",
   "execution_count": 20,
   "metadata": {},
   "outputs": [
    {
     "name": "stdout",
     "output_type": "stream",
     "text": [
      "Descriptive Stats columns\n",
      "                 var3         var15  imp_ent_var16_ult1  \\\n",
      "count   13679.000000  13679.000000        13679.000000   \n",
      "mean    -1824.855179     33.042255           99.328958   \n",
      "std     42713.214630     12.775376         1922.097794   \n",
      "min   -999999.000000      5.000000            0.000000   \n",
      "25%         2.000000     23.000000            0.000000   \n",
      "50%         2.000000     27.000000            0.000000   \n",
      "75%         2.000000     39.000000            0.000000   \n",
      "max       238.000000    102.000000       135000.000000   \n",
      "\n",
      "       imp_op_var39_comer_ult1  imp_op_var39_comer_ult3  \\\n",
      "count             13679.000000             13679.000000   \n",
      "mean                 75.019955               126.738999   \n",
      "std                 330.023892               561.996136   \n",
      "min                   0.000000                 0.000000   \n",
      "25%                   0.000000                 0.000000   \n",
      "50%                   0.000000                 0.000000   \n",
      "75%                   0.000000                 0.000000   \n",
      "max                8520.060000             21024.810000   \n",
      "\n",
      "       imp_op_var40_comer_ult1  imp_op_var40_comer_ult3  \\\n",
      "count             13679.000000             13679.000000   \n",
      "mean                  2.790963                 5.362622   \n",
      "std                  56.827351               114.875873   \n",
      "min                   0.000000                 0.000000   \n",
      "25%                   0.000000                 0.000000   \n",
      "50%                   0.000000                 0.000000   \n",
      "75%                   0.000000                 0.000000   \n",
      "max                2521.860000              7740.780000   \n",
      "\n",
      "       imp_op_var40_efect_ult1  imp_op_var40_efect_ult3  imp_op_var40_ult1  \\\n",
      "count             13679.000000             13679.000000       13679.000000   \n",
      "mean                  0.778566                 0.831201           3.068023   \n",
      "std                  59.634683                60.761995          81.597150   \n",
      "min                   0.000000                 0.000000           0.000000   \n",
      "25%                   0.000000                 0.000000           0.000000   \n",
      "50%                   0.000000                 0.000000           0.000000   \n",
      "75%                   0.000000                 0.000000           0.000000   \n",
      "max                6600.000000              6600.000000        6600.000000   \n",
      "\n",
      "           ...       saldo_medio_var29_ult3  saldo_medio_var33_hace2  \\\n",
      "count      ...                 13679.000000             13679.000000   \n",
      "mean       ...                     0.501225                18.525435   \n",
      "std        ...                    41.457375               735.471754   \n",
      "min        ...                     0.000000                 0.000000   \n",
      "25%        ...                     0.000000                 0.000000   \n",
      "50%        ...                     0.000000                 0.000000   \n",
      "75%        ...                     0.000000                 0.000000   \n",
      "max        ...                  3490.800000             50003.880000   \n",
      "\n",
      "       saldo_medio_var33_hace3  saldo_medio_var33_ult1  \\\n",
      "count             13679.000000            13679.000000   \n",
      "mean                  4.353121               21.760871   \n",
      "std                 231.011845              840.276591   \n",
      "min                   0.000000                0.000000   \n",
      "25%                   0.000000                0.000000   \n",
      "50%                   0.000000                0.000000   \n",
      "75%                   0.000000                0.000000   \n",
      "max               20385.720000            50232.960000   \n",
      "\n",
      "       saldo_medio_var33_ult3  saldo_medio_var44_hace2  \\\n",
      "count            13679.000000             13679.000000   \n",
      "mean                16.944848                45.930092   \n",
      "std                651.621049              1610.585298   \n",
      "min                  0.000000                 0.000000   \n",
      "25%                  0.000000                 0.000000   \n",
      "50%                  0.000000                 0.000000   \n",
      "75%                  0.000000                 0.000000   \n",
      "max              40207.530000             99130.230000   \n",
      "\n",
      "       saldo_medio_var44_hace3  saldo_medio_var44_ult1  \\\n",
      "count             13679.000000            13679.000000   \n",
      "mean                  2.709224              115.854052   \n",
      "std                 181.239828             4957.115815   \n",
      "min                   0.000000                0.000000   \n",
      "25%                   0.000000                0.000000   \n",
      "50%                   0.000000                0.000000   \n",
      "75%                   0.000000                0.000000   \n",
      "max               18928.590000           397884.300000   \n",
      "\n",
      "       saldo_medio_var44_ult3         var38  \n",
      "count            13679.000000  1.367900e+04  \n",
      "mean                93.499918  1.193903e+05  \n",
      "std               4136.670817  2.107435e+05  \n",
      "min                  0.000000  1.051011e+04  \n",
      "25%                  0.000000  6.681996e+04  \n",
      "50%                  0.000000  1.014832e+05  \n",
      "75%                  0.000000  1.243055e+05  \n",
      "max             397884.300000  1.326862e+07  \n",
      "\n",
      "[8 rows x 369 columns]\n"
     ]
    }
   ],
   "source": [
    "print('Descriptive Stats columns\\n',data_train_happy_s.describe(include='all'))"
   ]
  },
  {
   "cell_type": "code",
   "execution_count": 21,
   "metadata": {},
   "outputs": [
    {
     "name": "stdout",
     "output_type": "stream",
     "text": [
      "Descriptive Stats columns\n",
      "              var3       var15  imp_ent_var16_ult1  imp_op_var39_comer_ult1  \\\n",
      "count  563.000000  563.000000          563.000000               563.000000   \n",
      "mean     2.305506   40.241563           40.923623                79.004174   \n",
      "std      4.813137   12.110049          250.868188               371.104620   \n",
      "min      0.000000   23.000000            0.000000                 0.000000   \n",
      "25%      2.000000   31.000000            0.000000                 0.000000   \n",
      "50%      2.000000   38.000000            0.000000                 0.000000   \n",
      "75%      2.000000   47.000000            0.000000                 0.000000   \n",
      "max    114.000000   90.000000         3000.000000              4600.230000   \n",
      "\n",
      "       imp_op_var39_comer_ult3  imp_op_var40_comer_ult1  \\\n",
      "count               563.000000               563.000000   \n",
      "mean                115.189076                 1.307211   \n",
      "std                 472.390766                19.477509   \n",
      "min                   0.000000                 0.000000   \n",
      "25%                   0.000000                 0.000000   \n",
      "50%                   0.000000                 0.000000   \n",
      "75%                   0.000000                 0.000000   \n",
      "max                6103.830000               383.850000   \n",
      "\n",
      "       imp_op_var40_comer_ult3  imp_op_var40_efect_ult1  \\\n",
      "count               563.000000               563.000000   \n",
      "mean                  2.810249                 3.037300   \n",
      "std                  45.048655                72.067908   \n",
      "min                   0.000000                 0.000000   \n",
      "25%                   0.000000                 0.000000   \n",
      "50%                   0.000000                 0.000000   \n",
      "75%                   0.000000                 0.000000   \n",
      "max                 973.080000              1710.000000   \n",
      "\n",
      "       imp_op_var40_efect_ult3  imp_op_var40_ult1      ...       \\\n",
      "count               563.000000         563.000000      ...        \n",
      "mean                  3.570160           2.943037      ...        \n",
      "std                  73.146418          56.012154      ...        \n",
      "min                   0.000000           0.000000      ...        \n",
      "25%                   0.000000           0.000000      ...        \n",
      "50%                   0.000000           0.000000      ...        \n",
      "75%                   0.000000           0.000000      ...        \n",
      "max                1710.000000        1273.080000      ...        \n",
      "\n",
      "       saldo_medio_var29_ult3  saldo_medio_var33_hace2  \\\n",
      "count                   563.0                    563.0   \n",
      "mean                      0.0                      0.0   \n",
      "std                       0.0                      0.0   \n",
      "min                       0.0                      0.0   \n",
      "25%                       0.0                      0.0   \n",
      "50%                       0.0                      0.0   \n",
      "75%                       0.0                      0.0   \n",
      "max                       0.0                      0.0   \n",
      "\n",
      "       saldo_medio_var33_hace3  saldo_medio_var33_ult1  \\\n",
      "count                    563.0                   563.0   \n",
      "mean                       0.0                     0.0   \n",
      "std                        0.0                     0.0   \n",
      "min                        0.0                     0.0   \n",
      "25%                        0.0                     0.0   \n",
      "50%                        0.0                     0.0   \n",
      "75%                        0.0                     0.0   \n",
      "max                        0.0                     0.0   \n",
      "\n",
      "       saldo_medio_var33_ult3  saldo_medio_var44_hace2  \\\n",
      "count                   563.0                    563.0   \n",
      "mean                      0.0                      0.0   \n",
      "std                       0.0                      0.0   \n",
      "min                       0.0                      0.0   \n",
      "25%                       0.0                      0.0   \n",
      "50%                       0.0                      0.0   \n",
      "75%                       0.0                      0.0   \n",
      "max                       0.0                      0.0   \n",
      "\n",
      "       saldo_medio_var44_hace3  saldo_medio_var44_ult1  \\\n",
      "count                    563.0                   563.0   \n",
      "mean                       0.0                     0.0   \n",
      "std                        0.0                     0.0   \n",
      "min                        0.0                     0.0   \n",
      "25%                        0.0                     0.0   \n",
      "50%                        0.0                     0.0   \n",
      "75%                        0.0                     0.0   \n",
      "max                        0.0                     0.0   \n",
      "\n",
      "       saldo_medio_var44_ult3         var38  \n",
      "count                   563.0  5.630000e+02  \n",
      "mean                      0.0  1.055975e+05  \n",
      "std                       0.0  1.814405e+05  \n",
      "min                       0.0  1.250946e+04  \n",
      "25%                       0.0  5.719696e+04  \n",
      "50%                       0.0  8.541612e+04  \n",
      "75%                       0.0  1.173110e+05  \n",
      "max                       0.0  3.988595e+06  \n",
      "\n",
      "[8 rows x 369 columns]\n"
     ]
    }
   ],
   "source": [
    "print('Descriptive Stats columns\\n',data_train_unhappy_s.describe(include='all'))"
   ]
  },
  {
   "cell_type": "code",
   "execution_count": null,
   "metadata": {},
   "outputs": [],
   "source": []
  }
 ],
 "metadata": {
  "kernelspec": {
   "display_name": "Python 3",
   "language": "python",
   "name": "python3"
  },
  "language_info": {
   "codemirror_mode": {
    "name": "ipython",
    "version": 3
   },
   "file_extension": ".py",
   "mimetype": "text/x-python",
   "name": "python",
   "nbconvert_exporter": "python",
   "pygments_lexer": "ipython3",
   "version": "3.6.3"
  }
 },
 "nbformat": 4,
 "nbformat_minor": 2
}
