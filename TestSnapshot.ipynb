{
 "cells": [
  {
   "cell_type": "markdown",
   "metadata": {},
   "source": [
    "Try CAIM algorithm for supervised discretization"
   ]
  },
  {
   "cell_type": "code",
   "execution_count": 2,
   "metadata": {},
   "outputs": [
    {
     "name": "stdout",
     "output_type": "stream",
     "text": [
      "unique initial value \n",
      " [4.3 4.4 4.5 4.6 4.7 4.8 4.9 5.  5.1 5.2 5.3 5.4 5.5 5.6 5.7 5.8 5.9 6.\n",
      " 6.1 6.2 6.3 6.4 6.5 6.6 6.7 6.8 6.9 7.  7.1 7.2 7.3 7.4 7.6 7.7 7.9]\n",
      "Categorical []\n",
      "# 0  GLOBAL CAIM  26.636271740334553\n",
      "----\n",
      "unique after discretization \n",
      " [0. 1. 2.]\n",
      "target [0 1 2]\n",
      "KNN score no discretization: 0.377778\n",
      "LogisticRegression no discretization score: 0.266667\n",
      "KNN score with discretization: 0.822222\n",
      "LogisticRegression with discretization  score: 0.577778\n"
     ]
    }
   ],
   "source": [
    "from caimcaim import CAIMD\n",
    "from sklearn.datasets import load_iris\n",
    "from sklearn import datasets, neighbors, linear_model\n",
    "from sklearn.model_selection import train_test_split\n",
    "import numpy as np\n",
    "iris = load_iris()\n",
    "X = iris.data[:,0].reshape(-1,1)\n",
    "print('unique initial value \\n',np.unique(X))\n",
    "y = iris.target\n",
    "caim = CAIMD()\n",
    "X_disc = caim.fit_transform(X, y)\n",
    "print('----')\n",
    "print('unique after discretization \\n',np.unique(X_disc))\n",
    "print('target',np.unique(y))\n",
    "X_train, X_test, y_train, y_test = train_test_split(X,y,test_size=0.3)\n",
    "X_disc_train, X_disc_test, y_train, y_test = train_test_split(X_disc,y,test_size=0.3)\n",
    "knn = neighbors.KNeighborsClassifier()\n",
    "logistic = linear_model.LogisticRegression()\n",
    "print('KNN score no discretization: %f' % knn.fit(X_train, y_train).score(X_test, y_test))\n",
    "print('LogisticRegression no discretization score: %f'\n",
    "      % logistic.fit(X_train, y_train).score(X_test, y_test))\n",
    "knn1 = neighbors.KNeighborsClassifier()\n",
    "logistic1 = linear_model.LogisticRegression()\n",
    "print('KNN score with discretization: %f' % knn1.fit(X_disc_train, y_train).score(X_disc_test, y_test))\n",
    "print('LogisticRegression with discretization  score: %f'\n",
    "      % logistic1.fit(X_disc_train, y_train).score(X_disc_test, y_test))"
   ]
  },
  {
   "cell_type": "code",
   "execution_count": null,
   "metadata": {},
   "outputs": [],
   "source": []
  }
 ],
 "metadata": {
  "kernelspec": {
   "display_name": "Python 3",
   "language": "python",
   "name": "python3"
  },
  "language_info": {
   "codemirror_mode": {
    "name": "ipython",
    "version": 3
   },
   "file_extension": ".py",
   "mimetype": "text/x-python",
   "name": "python",
   "nbconvert_exporter": "python",
   "pygments_lexer": "ipython3",
   "version": "3.6.3"
  }
 },
 "nbformat": 4,
 "nbformat_minor": 2
}
